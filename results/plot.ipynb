{
 "cells": [
  {
   "cell_type": "code",
   "execution_count": 1,
   "id": "8a7596be-e578-447d-be66-23665a691ed3",
   "metadata": {},
   "outputs": [],
   "source": [
    "import os\n",
    "from collections import namedtuple\n",
    "\n",
    "\n",
    "import pandas as pd\n",
    "import numpy as np\n",
    "import duckdb\n",
    "import polars as pl\n",
    "\n",
    "\n",
    "Benchmark = namedtuple(\"Benchmark\", [\"id\", \"description\", \"ts\"])\n",
    "\n",
    "def get_db_conn():\n",
    "    results_dir = os.path.abspath('')\n",
    "    results_db = os.path.join(results_dir, \"results.db\")\n",
    "    conn = duckdb.connect(results_db)\n",
    "    return conn\n",
    "\n",
    "\n",
    "\n",
    "conn = get_db_conn()\n"
   ]
  },
  {
   "cell_type": "code",
   "execution_count": 14,
   "id": "c0b4621e-d3d1-47c6-a041-6359b8e84945",
   "metadata": {},
   "outputs": [
    {
     "name": "stdout",
     "output_type": "stream",
     "text": [
      "l1_cutoff: 90.50966799187809\n",
      "l2_cutoff: 256.0\n",
      "l3_cutoff: 724.0773439350247\n",
      "N=1200, size=32.958984375\n"
     ]
    }
   ],
   "source": [
    "l1_size = 192 * (2 ** 10)\n",
    "l2_size = 1.5 * (2 ** 20)\n",
    "l3_size = 12 * (2 ** 20)\n",
    "def get_N(bytes):\n",
    "    import math\n",
    "    return math.sqrt(bytes/24)\n",
    "    \n",
    "def get_approx_size_MB(N):\n",
    "    size_matrix_bytes = N * N * 8\n",
    "    all = size_matrix_bytes * 3\n",
    "    return all / (2 ** 20)\n",
    "    \n",
    "l1_cutoff = get_N(l1_size)\n",
    "l2_cutoff = get_N(l2_size)\n",
    "l3_cutoff = get_N(l3_size)\n",
    "\n",
    "print(\"l1_cutoff:\", l1_cutoff)\n",
    "print(\"l2_cutoff:\", l2_cutoff)\n",
    "print(\"l3_cutoff:\", l3_cutoff)\n",
    "\n",
    "N = 1200\n",
    "print(\"N={}, size={}\".format(N, get_approx_size_MB(N)))\n",
    "\n",
    "# l1_cutoff: 90.50966799187809\n",
    "# l2_cutoff: 256.0\n",
    "# l3_cutoff: 724.0773439350247\n"
   ]
  },
  {
   "cell_type": "code",
   "execution_count": 11,
   "id": "13844470-b388-46bb-a611-f0f19b59c0ce",
   "metadata": {},
   "outputs": [
    {
     "name": "stdout",
     "output_type": "stream",
     "text": [
      "Benchmark(id=1, description='Preliminary', ts=datetime.datetime(2023, 12, 1, 22, 52, 55, 657160))\n"
     ]
    }
   ],
   "source": [
    "\n",
    "# latest benchmark result\n",
    "bench_sql = \"\"\"\n",
    "select * from (\n",
    "    select\n",
    "        id,\n",
    "        last_value(description ignore nulls) over (\n",
    "            order by id asc\n",
    "            rows between unbounded preceding and current row\n",
    "        ) as desc,\n",
    "        ts_added\n",
    "    from benchmark\n",
    ")where id = (select max(id) from benchmark)\n",
    "\"\"\"\n",
    "bench = Benchmark(*conn.sql(bench_sql).fetchone())\n",
    "print(bench)\n",
    "\n",
    "results_sql =f\"\"\"\n",
    "    select N, fn, cycles\n",
    "    from results_cycles where bench_id = {bench.id}\n",
    "    and N <= 1000\n",
    "\"\"\"\n",
    "\n",
    "df = conn.sql(results_sql).pl()\n",
    "df = df.pivot(values=\"cycles\",index=\"N\", columns=\"fn\")"
   ]
  },
  {
   "cell_type": "code",
   "execution_count": 18,
   "id": "18d4d586-f46b-4c5e-b961-ea1445948523",
   "metadata": {},
   "outputs": [
    {
     "data": {
      "application/vnd.plotly.v1+json": {
       "config": {
        "plotlyServerURL": "https://plot.ly"
       },
       "data": [
        {
         "hovertemplate": "variable=jki<br>N=%{x}<br>value=%{y}<extra></extra>",
         "legendgroup": "jki",
         "line": {
          "color": "#46237a",
          "dash": "solid"
         },
         "marker": {
          "symbol": "circle"
         },
         "mode": "lines+markers",
         "name": "jki",
         "orientation": "v",
         "showlegend": true,
         "type": "scatter",
         "x": [
          50,
          100,
          150,
          200,
          250,
          300,
          350,
          400,
          450,
          500,
          550,
          600,
          650,
          700,
          750,
          800,
          850,
          900,
          950,
          1000
         ],
         "xaxis": "x",
         "y": [
          154754,
          1351384,
          5474966,
          13841778,
          28263062,
          61132920,
          112184072,
          209115950,
          242030116,
          335806434,
          446907006,
          600894422,
          974395662,
          1267458862,
          3009915454,
          5492524276,
          10072968572,
          11225391360,
          15647547820,
          15956110260
         ],
         "yaxis": "y"
        },
        {
         "hovertemplate": "variable=kji<br>N=%{x}<br>value=%{y}<extra></extra>",
         "legendgroup": "kji",
         "line": {
          "color": "#46237a",
          "dash": "solid"
         },
         "marker": {
          "symbol": "circle"
         },
         "mode": "lines+markers",
         "name": "kji",
         "orientation": "v",
         "showlegend": true,
         "type": "scatter",
         "x": [
          50,
          100,
          150,
          200,
          250,
          300,
          350,
          400,
          450,
          500,
          550,
          600,
          650,
          700,
          750,
          800,
          850,
          900,
          950,
          1000
         ],
         "xaxis": "x",
         "y": [
          154708,
          1335604,
          5426906,
          13841780,
          28262020,
          61132920,
          112184072,
          209115952,
          242030116,
          335806436,
          446907008,
          600894422,
          961430350,
          1244201124,
          2911171940,
          5391181288,
          8203242254,
          11003976642,
          15415745256,
          15846825686
         ],
         "yaxis": "y"
        },
        {
         "hovertemplate": "variable=jik<br>N=%{x}<br>value=%{y}<extra></extra>",
         "legendgroup": "jik",
         "line": {
          "color": "#256eff",
          "dash": "solid"
         },
         "marker": {
          "symbol": "circle"
         },
         "mode": "lines+markers",
         "name": "jik",
         "orientation": "v",
         "showlegend": true,
         "type": "scatter",
         "x": [
          50,
          100,
          150,
          200,
          250,
          300,
          350,
          400,
          450,
          500,
          550,
          600,
          650,
          700,
          750,
          800,
          850,
          900,
          950,
          1000
         ],
         "xaxis": "x",
         "y": [
          154708,
          1335604,
          5426908,
          13841778,
          28262018,
          61132920,
          97953406,
          150888790,
          213287836,
          295399160,
          394922682,
          517669586,
          664085998,
          832872712,
          1031486048,
          1302529214,
          1535027896,
          1728604296,
          2032249724,
          3368324556
         ],
         "yaxis": "y"
        },
        {
         "hovertemplate": "variable=ijk<br>N=%{x}<br>value=%{y}<extra></extra>",
         "legendgroup": "ijk",
         "line": {
          "color": "#256eff",
          "dash": "solid"
         },
         "marker": {
          "symbol": "circle"
         },
         "mode": "lines+markers",
         "name": "ijk",
         "orientation": "v",
         "showlegend": true,
         "type": "scatter",
         "x": [
          50,
          100,
          150,
          200,
          250,
          300,
          350,
          400,
          450,
          500,
          550,
          600,
          650,
          700,
          750,
          800,
          850,
          900,
          950,
          1000
         ],
         "xaxis": "x",
         "y": [
          154710,
          1335606,
          5426908,
          13841780,
          28262018,
          61132918,
          97953404,
          150888790,
          213287834,
          293679488,
          392890322,
          517669588,
          658955150,
          832872710,
          1031486048,
          1302529212,
          1535027896,
          1728604298,
          2032249722,
          3368324554
         ],
         "yaxis": "y"
        },
        {
         "hovertemplate": "variable=kij<br>N=%{x}<br>value=%{y}<extra></extra>",
         "legendgroup": "kij",
         "line": {
          "color": "#3ddc97",
          "dash": "solid"
         },
         "marker": {
          "symbol": "circle"
         },
         "mode": "lines+markers",
         "name": "kij",
         "orientation": "v",
         "showlegend": true,
         "type": "scatter",
         "x": [
          50,
          100,
          150,
          200,
          250,
          300,
          350,
          400,
          450,
          500,
          550,
          600,
          650,
          700,
          750,
          800,
          850,
          900,
          950,
          1000
         ],
         "xaxis": "x",
         "y": [
          152218,
          1074146,
          3619096,
          8884384,
          17504286,
          30106248,
          46386888,
          71828360,
          102554792,
          140629378,
          189986920,
          251448276,
          318134592,
          399256856,
          511712118,
          617190936,
          774781592,
          823260566,
          1010403226,
          1211836932
         ],
         "yaxis": "y"
        },
        {
         "hovertemplate": "variable=ikj<br>N=%{x}<br>value=%{y}<extra></extra>",
         "legendgroup": "ikj",
         "line": {
          "color": "#3ddc97",
          "dash": "solid"
         },
         "marker": {
          "symbol": "circle"
         },
         "mode": "lines+markers",
         "name": "ikj",
         "orientation": "v",
         "showlegend": true,
         "type": "scatter",
         "x": [
          50,
          100,
          150,
          200,
          250,
          300,
          350,
          400,
          450,
          500,
          550,
          600,
          650,
          700,
          750,
          800,
          850,
          900,
          950,
          1000
         ],
         "xaxis": "x",
         "y": [
          118162,
          1047474,
          3530962,
          8412374,
          16470418,
          28428320,
          44921640,
          65494850,
          93747446,
          129279554,
          171132980,
          224782782,
          286233788,
          360802400,
          451693382,
          558696986,
          617300410,
          747351756,
          903203648,
          1076528258
         ],
         "yaxis": "y"
        }
       ],
       "layout": {
        "autosize": true,
        "font": {
         "family": "Courier New"
        },
        "shapes": [
         {
          "line": {
           "dash": "dash",
           "width": 0.5
          },
          "type": "line",
          "x0": 256,
          "x1": 256,
          "xref": "x",
          "y0": 0,
          "y1": 1,
          "yref": "y domain"
         },
         {
          "line": {
           "dash": "dash",
           "width": 0.5
          },
          "type": "line",
          "x0": 724.0773439350247,
          "x1": 724.0773439350247,
          "xref": "x",
          "y0": 0,
          "y1": 1,
          "yref": "y domain"
         }
        ],
        "template": {
         "data": {
          "bar": [
           {
            "error_x": {
             "color": "#2a3f5f"
            },
            "error_y": {
             "color": "#2a3f5f"
            },
            "marker": {
             "line": {
              "color": "#E5ECF6",
              "width": 0.5
             },
             "pattern": {
              "fillmode": "overlay",
              "size": 10,
              "solidity": 0.2
             }
            },
            "type": "bar"
           }
          ],
          "barpolar": [
           {
            "marker": {
             "line": {
              "color": "#E5ECF6",
              "width": 0.5
             },
             "pattern": {
              "fillmode": "overlay",
              "size": 10,
              "solidity": 0.2
             }
            },
            "type": "barpolar"
           }
          ],
          "carpet": [
           {
            "aaxis": {
             "endlinecolor": "#2a3f5f",
             "gridcolor": "white",
             "linecolor": "white",
             "minorgridcolor": "white",
             "startlinecolor": "#2a3f5f"
            },
            "baxis": {
             "endlinecolor": "#2a3f5f",
             "gridcolor": "white",
             "linecolor": "white",
             "minorgridcolor": "white",
             "startlinecolor": "#2a3f5f"
            },
            "type": "carpet"
           }
          ],
          "choropleth": [
           {
            "colorbar": {
             "outlinewidth": 0,
             "ticks": ""
            },
            "type": "choropleth"
           }
          ],
          "contour": [
           {
            "colorbar": {
             "outlinewidth": 0,
             "ticks": ""
            },
            "colorscale": [
             [
              0,
              "#0d0887"
             ],
             [
              0.1111111111111111,
              "#46039f"
             ],
             [
              0.2222222222222222,
              "#7201a8"
             ],
             [
              0.3333333333333333,
              "#9c179e"
             ],
             [
              0.4444444444444444,
              "#bd3786"
             ],
             [
              0.5555555555555556,
              "#d8576b"
             ],
             [
              0.6666666666666666,
              "#ed7953"
             ],
             [
              0.7777777777777778,
              "#fb9f3a"
             ],
             [
              0.8888888888888888,
              "#fdca26"
             ],
             [
              1,
              "#f0f921"
             ]
            ],
            "type": "contour"
           }
          ],
          "contourcarpet": [
           {
            "colorbar": {
             "outlinewidth": 0,
             "ticks": ""
            },
            "type": "contourcarpet"
           }
          ],
          "heatmap": [
           {
            "colorbar": {
             "outlinewidth": 0,
             "ticks": ""
            },
            "colorscale": [
             [
              0,
              "#0d0887"
             ],
             [
              0.1111111111111111,
              "#46039f"
             ],
             [
              0.2222222222222222,
              "#7201a8"
             ],
             [
              0.3333333333333333,
              "#9c179e"
             ],
             [
              0.4444444444444444,
              "#bd3786"
             ],
             [
              0.5555555555555556,
              "#d8576b"
             ],
             [
              0.6666666666666666,
              "#ed7953"
             ],
             [
              0.7777777777777778,
              "#fb9f3a"
             ],
             [
              0.8888888888888888,
              "#fdca26"
             ],
             [
              1,
              "#f0f921"
             ]
            ],
            "type": "heatmap"
           }
          ],
          "heatmapgl": [
           {
            "colorbar": {
             "outlinewidth": 0,
             "ticks": ""
            },
            "colorscale": [
             [
              0,
              "#0d0887"
             ],
             [
              0.1111111111111111,
              "#46039f"
             ],
             [
              0.2222222222222222,
              "#7201a8"
             ],
             [
              0.3333333333333333,
              "#9c179e"
             ],
             [
              0.4444444444444444,
              "#bd3786"
             ],
             [
              0.5555555555555556,
              "#d8576b"
             ],
             [
              0.6666666666666666,
              "#ed7953"
             ],
             [
              0.7777777777777778,
              "#fb9f3a"
             ],
             [
              0.8888888888888888,
              "#fdca26"
             ],
             [
              1,
              "#f0f921"
             ]
            ],
            "type": "heatmapgl"
           }
          ],
          "histogram": [
           {
            "marker": {
             "pattern": {
              "fillmode": "overlay",
              "size": 10,
              "solidity": 0.2
             }
            },
            "type": "histogram"
           }
          ],
          "histogram2d": [
           {
            "colorbar": {
             "outlinewidth": 0,
             "ticks": ""
            },
            "colorscale": [
             [
              0,
              "#0d0887"
             ],
             [
              0.1111111111111111,
              "#46039f"
             ],
             [
              0.2222222222222222,
              "#7201a8"
             ],
             [
              0.3333333333333333,
              "#9c179e"
             ],
             [
              0.4444444444444444,
              "#bd3786"
             ],
             [
              0.5555555555555556,
              "#d8576b"
             ],
             [
              0.6666666666666666,
              "#ed7953"
             ],
             [
              0.7777777777777778,
              "#fb9f3a"
             ],
             [
              0.8888888888888888,
              "#fdca26"
             ],
             [
              1,
              "#f0f921"
             ]
            ],
            "type": "histogram2d"
           }
          ],
          "histogram2dcontour": [
           {
            "colorbar": {
             "outlinewidth": 0,
             "ticks": ""
            },
            "colorscale": [
             [
              0,
              "#0d0887"
             ],
             [
              0.1111111111111111,
              "#46039f"
             ],
             [
              0.2222222222222222,
              "#7201a8"
             ],
             [
              0.3333333333333333,
              "#9c179e"
             ],
             [
              0.4444444444444444,
              "#bd3786"
             ],
             [
              0.5555555555555556,
              "#d8576b"
             ],
             [
              0.6666666666666666,
              "#ed7953"
             ],
             [
              0.7777777777777778,
              "#fb9f3a"
             ],
             [
              0.8888888888888888,
              "#fdca26"
             ],
             [
              1,
              "#f0f921"
             ]
            ],
            "type": "histogram2dcontour"
           }
          ],
          "mesh3d": [
           {
            "colorbar": {
             "outlinewidth": 0,
             "ticks": ""
            },
            "type": "mesh3d"
           }
          ],
          "parcoords": [
           {
            "line": {
             "colorbar": {
              "outlinewidth": 0,
              "ticks": ""
             }
            },
            "type": "parcoords"
           }
          ],
          "pie": [
           {
            "automargin": true,
            "type": "pie"
           }
          ],
          "scatter": [
           {
            "fillpattern": {
             "fillmode": "overlay",
             "size": 10,
             "solidity": 0.2
            },
            "type": "scatter"
           }
          ],
          "scatter3d": [
           {
            "line": {
             "colorbar": {
              "outlinewidth": 0,
              "ticks": ""
             }
            },
            "marker": {
             "colorbar": {
              "outlinewidth": 0,
              "ticks": ""
             }
            },
            "type": "scatter3d"
           }
          ],
          "scattercarpet": [
           {
            "marker": {
             "colorbar": {
              "outlinewidth": 0,
              "ticks": ""
             }
            },
            "type": "scattercarpet"
           }
          ],
          "scattergeo": [
           {
            "marker": {
             "colorbar": {
              "outlinewidth": 0,
              "ticks": ""
             }
            },
            "type": "scattergeo"
           }
          ],
          "scattergl": [
           {
            "marker": {
             "colorbar": {
              "outlinewidth": 0,
              "ticks": ""
             }
            },
            "type": "scattergl"
           }
          ],
          "scattermapbox": [
           {
            "marker": {
             "colorbar": {
              "outlinewidth": 0,
              "ticks": ""
             }
            },
            "type": "scattermapbox"
           }
          ],
          "scatterpolar": [
           {
            "marker": {
             "colorbar": {
              "outlinewidth": 0,
              "ticks": ""
             }
            },
            "type": "scatterpolar"
           }
          ],
          "scatterpolargl": [
           {
            "marker": {
             "colorbar": {
              "outlinewidth": 0,
              "ticks": ""
             }
            },
            "type": "scatterpolargl"
           }
          ],
          "scatterternary": [
           {
            "marker": {
             "colorbar": {
              "outlinewidth": 0,
              "ticks": ""
             }
            },
            "type": "scatterternary"
           }
          ],
          "surface": [
           {
            "colorbar": {
             "outlinewidth": 0,
             "ticks": ""
            },
            "colorscale": [
             [
              0,
              "#0d0887"
             ],
             [
              0.1111111111111111,
              "#46039f"
             ],
             [
              0.2222222222222222,
              "#7201a8"
             ],
             [
              0.3333333333333333,
              "#9c179e"
             ],
             [
              0.4444444444444444,
              "#bd3786"
             ],
             [
              0.5555555555555556,
              "#d8576b"
             ],
             [
              0.6666666666666666,
              "#ed7953"
             ],
             [
              0.7777777777777778,
              "#fb9f3a"
             ],
             [
              0.8888888888888888,
              "#fdca26"
             ],
             [
              1,
              "#f0f921"
             ]
            ],
            "type": "surface"
           }
          ],
          "table": [
           {
            "cells": {
             "fill": {
              "color": "#EBF0F8"
             },
             "line": {
              "color": "white"
             }
            },
            "header": {
             "fill": {
              "color": "#C8D4E3"
             },
             "line": {
              "color": "white"
             }
            },
            "type": "table"
           }
          ]
         },
         "layout": {
          "annotationdefaults": {
           "arrowcolor": "#2a3f5f",
           "arrowhead": 0,
           "arrowwidth": 1
          },
          "autotypenumbers": "strict",
          "coloraxis": {
           "colorbar": {
            "outlinewidth": 0,
            "ticks": ""
           }
          },
          "colorscale": {
           "diverging": [
            [
             0,
             "#8e0152"
            ],
            [
             0.1,
             "#c51b7d"
            ],
            [
             0.2,
             "#de77ae"
            ],
            [
             0.3,
             "#f1b6da"
            ],
            [
             0.4,
             "#fde0ef"
            ],
            [
             0.5,
             "#f7f7f7"
            ],
            [
             0.6,
             "#e6f5d0"
            ],
            [
             0.7,
             "#b8e186"
            ],
            [
             0.8,
             "#7fbc41"
            ],
            [
             0.9,
             "#4d9221"
            ],
            [
             1,
             "#276419"
            ]
           ],
           "sequential": [
            [
             0,
             "#0d0887"
            ],
            [
             0.1111111111111111,
             "#46039f"
            ],
            [
             0.2222222222222222,
             "#7201a8"
            ],
            [
             0.3333333333333333,
             "#9c179e"
            ],
            [
             0.4444444444444444,
             "#bd3786"
            ],
            [
             0.5555555555555556,
             "#d8576b"
            ],
            [
             0.6666666666666666,
             "#ed7953"
            ],
            [
             0.7777777777777778,
             "#fb9f3a"
            ],
            [
             0.8888888888888888,
             "#fdca26"
            ],
            [
             1,
             "#f0f921"
            ]
           ],
           "sequentialminus": [
            [
             0,
             "#0d0887"
            ],
            [
             0.1111111111111111,
             "#46039f"
            ],
            [
             0.2222222222222222,
             "#7201a8"
            ],
            [
             0.3333333333333333,
             "#9c179e"
            ],
            [
             0.4444444444444444,
             "#bd3786"
            ],
            [
             0.5555555555555556,
             "#d8576b"
            ],
            [
             0.6666666666666666,
             "#ed7953"
            ],
            [
             0.7777777777777778,
             "#fb9f3a"
            ],
            [
             0.8888888888888888,
             "#fdca26"
            ],
            [
             1,
             "#f0f921"
            ]
           ]
          },
          "colorway": [
           "#636efa",
           "#EF553B",
           "#00cc96",
           "#ab63fa",
           "#FFA15A",
           "#19d3f3",
           "#FF6692",
           "#B6E880",
           "#FF97FF",
           "#FECB52"
          ],
          "font": {
           "color": "#2a3f5f"
          },
          "geo": {
           "bgcolor": "white",
           "lakecolor": "white",
           "landcolor": "#E5ECF6",
           "showlakes": true,
           "showland": true,
           "subunitcolor": "white"
          },
          "hoverlabel": {
           "align": "left"
          },
          "hovermode": "closest",
          "mapbox": {
           "style": "light"
          },
          "paper_bgcolor": "white",
          "plot_bgcolor": "#E5ECF6",
          "polar": {
           "angularaxis": {
            "gridcolor": "white",
            "linecolor": "white",
            "ticks": ""
           },
           "bgcolor": "#E5ECF6",
           "radialaxis": {
            "gridcolor": "white",
            "linecolor": "white",
            "ticks": ""
           }
          },
          "scene": {
           "xaxis": {
            "backgroundcolor": "#E5ECF6",
            "gridcolor": "white",
            "gridwidth": 2,
            "linecolor": "white",
            "showbackground": true,
            "ticks": "",
            "zerolinecolor": "white"
           },
           "yaxis": {
            "backgroundcolor": "#E5ECF6",
            "gridcolor": "white",
            "gridwidth": 2,
            "linecolor": "white",
            "showbackground": true,
            "ticks": "",
            "zerolinecolor": "white"
           },
           "zaxis": {
            "backgroundcolor": "#E5ECF6",
            "gridcolor": "white",
            "gridwidth": 2,
            "linecolor": "white",
            "showbackground": true,
            "ticks": "",
            "zerolinecolor": "white"
           }
          },
          "shapedefaults": {
           "line": {
            "color": "#2a3f5f"
           }
          },
          "ternary": {
           "aaxis": {
            "gridcolor": "white",
            "linecolor": "white",
            "ticks": ""
           },
           "baxis": {
            "gridcolor": "white",
            "linecolor": "white",
            "ticks": ""
           },
           "bgcolor": "#E5ECF6",
           "caxis": {
            "gridcolor": "white",
            "linecolor": "white",
            "ticks": ""
           }
          },
          "title": {
           "x": 0.05
          },
          "xaxis": {
           "automargin": true,
           "gridcolor": "white",
           "linecolor": "white",
           "ticks": "",
           "title": {
            "standoff": 15
           },
           "zerolinecolor": "white",
           "zerolinewidth": 2
          },
          "yaxis": {
           "automargin": true,
           "gridcolor": "white",
           "linecolor": "white",
           "ticks": "",
           "title": {
            "standoff": 15
           },
           "zerolinecolor": "white",
           "zerolinewidth": 2
          }
         }
        },
        "title": {
         "text": "Matrix Multiply Performance",
         "x": 0.5
        },
        "xaxis": {
         "autorange": true,
         "range": [
          -9.201557935735138,
          1059.201557935735
         ],
         "title": {
          "text": "Size(N)"
         },
         "type": "linear"
        },
        "yaxis": {
         "autorange": true,
         "range": [
          -1030697831.3018458,
          16986926253.301846
         ],
         "title": {
          "text": "Total Cycles"
         },
         "type": "linear"
        }
       }
      },
      "image/png": "[encoded data removed]",
      "text/html": [
       "<div>                            <div id=\"181ece01-1598-4f72-b14d-fa2dc52c7d20\" class=\"plotly-graph-div\" style=\"height:700px; width:100%;\"></div>            <script type=\"text/javascript\">                require([\"plotly\"], function(Plotly) {                    window.PLOTLYENV=window.PLOTLYENV || {};                                    if (document.getElementById(\"181ece01-1598-4f72-b14d-fa2dc52c7d20\")) {                    Plotly.newPlot(                        \"181ece01-1598-4f72-b14d-fa2dc52c7d20\",                        [{\"hovertemplate\":\"variable=jki\\u003cbr\\u003eN=%{x}\\u003cbr\\u003evalue=%{y}\\u003cextra\\u003e\\u003c\\u002fextra\\u003e\",\"legendgroup\":\"jki\",\"line\":{\"color\":\"#46237a\",\"dash\":\"solid\"},\"marker\":{\"symbol\":\"circle\"},\"mode\":\"lines+markers\",\"name\":\"jki\",\"orientation\":\"v\",\"showlegend\":true,\"x\":[50,100,150,200,250,300,350,400,450,500,550,600,650,700,750,800,850,900,950,1000],\"xaxis\":\"x\",\"y\":[154754.0,1351384.0,5474966.0,13841778.0,28263062.0,61132920.0,112184072.0,209115950.0,242030116.0,335806434.0,446907006.0,600894422.0,974395662.0,1267458862.0,3009915454.0,5492524276.0,10072968572.0,11225391360.0,15647547820.0,15956110260.0],\"yaxis\":\"y\",\"type\":\"scatter\"},{\"hovertemplate\":\"variable=kji\\u003cbr\\u003eN=%{x}\\u003cbr\\u003evalue=%{y}\\u003cextra\\u003e\\u003c\\u002fextra\\u003e\",\"legendgroup\":\"kji\",\"line\":{\"color\":\"#46237a\",\"dash\":\"solid\"},\"marker\":{\"symbol\":\"circle\"},\"mode\":\"lines+markers\",\"name\":\"kji\",\"orientation\":\"v\",\"showlegend\":true,\"x\":[50,100,150,200,250,300,350,400,450,500,550,600,650,700,750,800,850,900,950,1000],\"xaxis\":\"x\",\"y\":[154708.0,1335604.0,5426906.0,13841780.0,28262020.0,61132920.0,112184072.0,209115952.0,242030116.0,335806436.0,446907008.0,600894422.0,961430350.0,1244201124.0,2911171940.0,5391181288.0,8203242254.0,11003976642.0,15415745256.0,15846825686.0],\"yaxis\":\"y\",\"type\":\"scatter\"},{\"hovertemplate\":\"variable=jik\\u003cbr\\u003eN=%{x}\\u003cbr\\u003evalue=%{y}\\u003cextra\\u003e\\u003c\\u002fextra\\u003e\",\"legendgroup\":\"jik\",\"line\":{\"color\":\"#256eff\",\"dash\":\"solid\"},\"marker\":{\"symbol\":\"circle\"},\"mode\":\"lines+markers\",\"name\":\"jik\",\"orientation\":\"v\",\"showlegend\":true,\"x\":[50,100,150,200,250,300,350,400,450,500,550,600,650,700,750,800,850,900,950,1000],\"xaxis\":\"x\",\"y\":[154708.0,1335604.0,5426908.0,13841778.0,28262018.0,61132920.0,97953406.0,150888790.0,213287836.0,295399160.0,394922682.0,517669586.0,664085998.0,832872712.0,1031486048.0,1302529214.0,1535027896.0,1728604296.0,2032249724.0,3368324556.0],\"yaxis\":\"y\",\"type\":\"scatter\"},{\"hovertemplate\":\"variable=ijk\\u003cbr\\u003eN=%{x}\\u003cbr\\u003evalue=%{y}\\u003cextra\\u003e\\u003c\\u002fextra\\u003e\",\"legendgroup\":\"ijk\",\"line\":{\"color\":\"#256eff\",\"dash\":\"solid\"},\"marker\":{\"symbol\":\"circle\"},\"mode\":\"lines+markers\",\"name\":\"ijk\",\"orientation\":\"v\",\"showlegend\":true,\"x\":[50,100,150,200,250,300,350,400,450,500,550,600,650,700,750,800,850,900,950,1000],\"xaxis\":\"x\",\"y\":[154710.0,1335606.0,5426908.0,13841780.0,28262018.0,61132918.0,97953404.0,150888790.0,213287834.0,293679488.0,392890322.0,517669588.0,658955150.0,832872710.0,1031486048.0,1302529212.0,1535027896.0,1728604298.0,2032249722.0,3368324554.0],\"yaxis\":\"y\",\"type\":\"scatter\"},{\"hovertemplate\":\"variable=kij\\u003cbr\\u003eN=%{x}\\u003cbr\\u003evalue=%{y}\\u003cextra\\u003e\\u003c\\u002fextra\\u003e\",\"legendgroup\":\"kij\",\"line\":{\"color\":\"#3ddc97\",\"dash\":\"solid\"},\"marker\":{\"symbol\":\"circle\"},\"mode\":\"lines+markers\",\"name\":\"kij\",\"orientation\":\"v\",\"showlegend\":true,\"x\":[50,100,150,200,250,300,350,400,450,500,550,600,650,700,750,800,850,900,950,1000],\"xaxis\":\"x\",\"y\":[152218.0,1074146.0,3619096.0,8884384.0,17504286.0,30106248.0,46386888.0,71828360.0,102554792.0,140629378.0,189986920.0,251448276.0,318134592.0,399256856.0,511712118.0,617190936.0,774781592.0,823260566.0,1010403226.0,1211836932.0],\"yaxis\":\"y\",\"type\":\"scatter\"},{\"hovertemplate\":\"variable=ikj\\u003cbr\\u003eN=%{x}\\u003cbr\\u003evalue=%{y}\\u003cextra\\u003e\\u003c\\u002fextra\\u003e\",\"legendgroup\":\"ikj\",\"line\":{\"color\":\"#3ddc97\",\"dash\":\"solid\"},\"marker\":{\"symbol\":\"circle\"},\"mode\":\"lines+markers\",\"name\":\"ikj\",\"orientation\":\"v\",\"showlegend\":true,\"x\":[50,100,150,200,250,300,350,400,450,500,550,600,650,700,750,800,850,900,950,1000],\"xaxis\":\"x\",\"y\":[118162.0,1047474.0,3530962.0,8412374.0,16470418.0,28428320.0,44921640.0,65494850.0,93747446.0,129279554.0,171132980.0,224782782.0,286233788.0,360802400.0,451693382.0,558696986.0,617300410.0,747351756.0,903203648.0,1076528258.0],\"yaxis\":\"y\",\"type\":\"scatter\"}],                        {\"font\":{\"family\":\"Courier New\"},\"height\":700,\"title\":{\"text\":\"Matrix Multiply Performance\",\"x\":0.5},\"xaxis\":{\"title\":{\"text\":\"Size(N)\"}},\"yaxis\":{\"title\":{\"text\":\"Total Cycles\"}},\"template\":{\"data\":{\"histogram2dcontour\":[{\"type\":\"histogram2dcontour\",\"colorbar\":{\"outlinewidth\":0,\"ticks\":\"\"},\"colorscale\":[[0.0,\"#0d0887\"],[0.1111111111111111,\"#46039f\"],[0.2222222222222222,\"#7201a8\"],[0.3333333333333333,\"#9c179e\"],[0.4444444444444444,\"#bd3786\"],[0.5555555555555556,\"#d8576b\"],[0.6666666666666666,\"#ed7953\"],[0.7777777777777778,\"#fb9f3a\"],[0.8888888888888888,\"#fdca26\"],[1.0,\"#f0f921\"]]}],\"choropleth\":[{\"type\":\"choropleth\",\"colorbar\":{\"outlinewidth\":0,\"ticks\":\"\"}}],\"histogram2d\":[{\"type\":\"histogram2d\",\"colorbar\":{\"outlinewidth\":0,\"ticks\":\"\"},\"colorscale\":[[0.0,\"#0d0887\"],[0.1111111111111111,\"#46039f\"],[0.2222222222222222,\"#7201a8\"],[0.3333333333333333,\"#9c179e\"],[0.4444444444444444,\"#bd3786\"],[0.5555555555555556,\"#d8576b\"],[0.6666666666666666,\"#ed7953\"],[0.7777777777777778,\"#fb9f3a\"],[0.8888888888888888,\"#fdca26\"],[1.0,\"#f0f921\"]]}],\"heatmap\":[{\"type\":\"heatmap\",\"colorbar\":{\"outlinewidth\":0,\"ticks\":\"\"},\"colorscale\":[[0.0,\"#0d0887\"],[0.1111111111111111,\"#46039f\"],[0.2222222222222222,\"#7201a8\"],[0.3333333333333333,\"#9c179e\"],[0.4444444444444444,\"#bd3786\"],[0.5555555555555556,\"#d8576b\"],[0.6666666666666666,\"#ed7953\"],[0.7777777777777778,\"#fb9f3a\"],[0.8888888888888888,\"#fdca26\"],[1.0,\"#f0f921\"]]}],\"heatmapgl\":[{\"type\":\"heatmapgl\",\"colorbar\":{\"outlinewidth\":0,\"ticks\":\"\"},\"colorscale\":[[0.0,\"#0d0887\"],[0.1111111111111111,\"#46039f\"],[0.2222222222222222,\"#7201a8\"],[0.3333333333333333,\"#9c179e\"],[0.4444444444444444,\"#bd3786\"],[0.5555555555555556,\"#d8576b\"],[0.6666666666666666,\"#ed7953\"],[0.7777777777777778,\"#fb9f3a\"],[0.8888888888888888,\"#fdca26\"],[1.0,\"#f0f921\"]]}],\"contourcarpet\":[{\"type\":\"contourcarpet\",\"colorbar\":{\"outlinewidth\":0,\"ticks\":\"\"}}],\"contour\":[{\"type\":\"contour\",\"colorbar\":{\"outlinewidth\":0,\"ticks\":\"\"},\"colorscale\":[[0.0,\"#0d0887\"],[0.1111111111111111,\"#46039f\"],[0.2222222222222222,\"#7201a8\"],[0.3333333333333333,\"#9c179e\"],[0.4444444444444444,\"#bd3786\"],[0.5555555555555556,\"#d8576b\"],[0.6666666666666666,\"#ed7953\"],[0.7777777777777778,\"#fb9f3a\"],[0.8888888888888888,\"#fdca26\"],[1.0,\"#f0f921\"]]}],\"surface\":[{\"type\":\"surface\",\"colorbar\":{\"outlinewidth\":0,\"ticks\":\"\"},\"colorscale\":[[0.0,\"#0d0887\"],[0.1111111111111111,\"#46039f\"],[0.2222222222222222,\"#7201a8\"],[0.3333333333333333,\"#9c179e\"],[0.4444444444444444,\"#bd3786\"],[0.5555555555555556,\"#d8576b\"],[0.6666666666666666,\"#ed7953\"],[0.7777777777777778,\"#fb9f3a\"],[0.8888888888888888,\"#fdca26\"],[1.0,\"#f0f921\"]]}],\"mesh3d\":[{\"type\":\"mesh3d\",\"colorbar\":{\"outlinewidth\":0,\"ticks\":\"\"}}],\"scatter\":[{\"fillpattern\":{\"fillmode\":\"overlay\",\"size\":10,\"solidity\":0.2},\"type\":\"scatter\"}],\"parcoords\":[{\"type\":\"parcoords\",\"line\":{\"colorbar\":{\"outlinewidth\":0,\"ticks\":\"\"}}}],\"scatterpolargl\":[{\"type\":\"scatterpolargl\",\"marker\":{\"colorbar\":{\"outlinewidth\":0,\"ticks\":\"\"}}}],\"bar\":[{\"error_x\":{\"color\":\"#2a3f5f\"},\"error_y\":{\"color\":\"#2a3f5f\"},\"marker\":{\"line\":{\"color\":\"#E5ECF6\",\"width\":0.5},\"pattern\":{\"fillmode\":\"overlay\",\"size\":10,\"solidity\":0.2}},\"type\":\"bar\"}],\"scattergeo\":[{\"type\":\"scattergeo\",\"marker\":{\"colorbar\":{\"outlinewidth\":0,\"ticks\":\"\"}}}],\"scatterpolar\":[{\"type\":\"scatterpolar\",\"marker\":{\"colorbar\":{\"outlinewidth\":0,\"ticks\":\"\"}}}],\"histogram\":[{\"marker\":{\"pattern\":{\"fillmode\":\"overlay\",\"size\":10,\"solidity\":0.2}},\"type\":\"histogram\"}],\"scattergl\":[{\"type\":\"scattergl\",\"marker\":{\"colorbar\":{\"outlinewidth\":0,\"ticks\":\"\"}}}],\"scatter3d\":[{\"type\":\"scatter3d\",\"line\":{\"colorbar\":{\"outlinewidth\":0,\"ticks\":\"\"}},\"marker\":{\"colorbar\":{\"outlinewidth\":0,\"ticks\":\"\"}}}],\"scattermapbox\":[{\"type\":\"scattermapbox\",\"marker\":{\"colorbar\":{\"outlinewidth\":0,\"ticks\":\"\"}}}],\"scatterternary\":[{\"type\":\"scatterternary\",\"marker\":{\"colorbar\":{\"outlinewidth\":0,\"ticks\":\"\"}}}],\"scattercarpet\":[{\"type\":\"scattercarpet\",\"marker\":{\"colorbar\":{\"outlinewidth\":0,\"ticks\":\"\"}}}],\"carpet\":[{\"aaxis\":{\"endlinecolor\":\"#2a3f5f\",\"gridcolor\":\"white\",\"linecolor\":\"white\",\"minorgridcolor\":\"white\",\"startlinecolor\":\"#2a3f5f\"},\"baxis\":{\"endlinecolor\":\"#2a3f5f\",\"gridcolor\":\"white\",\"linecolor\":\"white\",\"minorgridcolor\":\"white\",\"startlinecolor\":\"#2a3f5f\"},\"type\":\"carpet\"}],\"table\":[{\"cells\":{\"fill\":{\"color\":\"#EBF0F8\"},\"line\":{\"color\":\"white\"}},\"header\":{\"fill\":{\"color\":\"#C8D4E3\"},\"line\":{\"color\":\"white\"}},\"type\":\"table\"}],\"barpolar\":[{\"marker\":{\"line\":{\"color\":\"#E5ECF6\",\"width\":0.5},\"pattern\":{\"fillmode\":\"overlay\",\"size\":10,\"solidity\":0.2}},\"type\":\"barpolar\"}],\"pie\":[{\"automargin\":true,\"type\":\"pie\"}]},\"layout\":{\"autotypenumbers\":\"strict\",\"colorway\":[\"#636efa\",\"#EF553B\",\"#00cc96\",\"#ab63fa\",\"#FFA15A\",\"#19d3f3\",\"#FF6692\",\"#B6E880\",\"#FF97FF\",\"#FECB52\"],\"font\":{\"color\":\"#2a3f5f\"},\"hovermode\":\"closest\",\"hoverlabel\":{\"align\":\"left\"},\"paper_bgcolor\":\"white\",\"plot_bgcolor\":\"#E5ECF6\",\"polar\":{\"bgcolor\":\"#E5ECF6\",\"angularaxis\":{\"gridcolor\":\"white\",\"linecolor\":\"white\",\"ticks\":\"\"},\"radialaxis\":{\"gridcolor\":\"white\",\"linecolor\":\"white\",\"ticks\":\"\"}},\"ternary\":{\"bgcolor\":\"#E5ECF6\",\"aaxis\":{\"gridcolor\":\"white\",\"linecolor\":\"white\",\"ticks\":\"\"},\"baxis\":{\"gridcolor\":\"white\",\"linecolor\":\"white\",\"ticks\":\"\"},\"caxis\":{\"gridcolor\":\"white\",\"linecolor\":\"white\",\"ticks\":\"\"}},\"coloraxis\":{\"colorbar\":{\"outlinewidth\":0,\"ticks\":\"\"}},\"colorscale\":{\"sequential\":[[0.0,\"#0d0887\"],[0.1111111111111111,\"#46039f\"],[0.2222222222222222,\"#7201a8\"],[0.3333333333333333,\"#9c179e\"],[0.4444444444444444,\"#bd3786\"],[0.5555555555555556,\"#d8576b\"],[0.6666666666666666,\"#ed7953\"],[0.7777777777777778,\"#fb9f3a\"],[0.8888888888888888,\"#fdca26\"],[1.0,\"#f0f921\"]],\"sequentialminus\":[[0.0,\"#0d0887\"],[0.1111111111111111,\"#46039f\"],[0.2222222222222222,\"#7201a8\"],[0.3333333333333333,\"#9c179e\"],[0.4444444444444444,\"#bd3786\"],[0.5555555555555556,\"#d8576b\"],[0.6666666666666666,\"#ed7953\"],[0.7777777777777778,\"#fb9f3a\"],[0.8888888888888888,\"#fdca26\"],[1.0,\"#f0f921\"]],\"diverging\":[[0,\"#8e0152\"],[0.1,\"#c51b7d\"],[0.2,\"#de77ae\"],[0.3,\"#f1b6da\"],[0.4,\"#fde0ef\"],[0.5,\"#f7f7f7\"],[0.6,\"#e6f5d0\"],[0.7,\"#b8e186\"],[0.8,\"#7fbc41\"],[0.9,\"#4d9221\"],[1,\"#276419\"]]},\"xaxis\":{\"gridcolor\":\"white\",\"linecolor\":\"white\",\"ticks\":\"\",\"title\":{\"standoff\":15},\"zerolinecolor\":\"white\",\"automargin\":true,\"zerolinewidth\":2},\"yaxis\":{\"gridcolor\":\"white\",\"linecolor\":\"white\",\"ticks\":\"\",\"title\":{\"standoff\":15},\"zerolinecolor\":\"white\",\"automargin\":true,\"zerolinewidth\":2},\"scene\":{\"xaxis\":{\"backgroundcolor\":\"#E5ECF6\",\"gridcolor\":\"white\",\"linecolor\":\"white\",\"showbackground\":true,\"ticks\":\"\",\"zerolinecolor\":\"white\",\"gridwidth\":2},\"yaxis\":{\"backgroundcolor\":\"#E5ECF6\",\"gridcolor\":\"white\",\"linecolor\":\"white\",\"showbackground\":true,\"ticks\":\"\",\"zerolinecolor\":\"white\",\"gridwidth\":2},\"zaxis\":{\"backgroundcolor\":\"#E5ECF6\",\"gridcolor\":\"white\",\"linecolor\":\"white\",\"showbackground\":true,\"ticks\":\"\",\"zerolinecolor\":\"white\",\"gridwidth\":2}},\"shapedefaults\":{\"line\":{\"color\":\"#2a3f5f\"}},\"annotationdefaults\":{\"arrowcolor\":\"#2a3f5f\",\"arrowhead\":0,\"arrowwidth\":1},\"geo\":{\"bgcolor\":\"white\",\"landcolor\":\"#E5ECF6\",\"subunitcolor\":\"white\",\"showland\":true,\"showlakes\":true,\"lakecolor\":\"white\"},\"title\":{\"x\":0.05},\"mapbox\":{\"style\":\"light\"}}},\"shapes\":[{\"line\":{\"dash\":\"dash\",\"width\":0.5},\"type\":\"line\",\"x0\":256.0,\"x1\":256.0,\"xref\":\"x\",\"y0\":0,\"y1\":1,\"yref\":\"y domain\"},{\"line\":{\"dash\":\"dash\",\"width\":0.5},\"type\":\"line\",\"x0\":724.0773439350247,\"x1\":724.0773439350247,\"xref\":\"x\",\"y0\":0,\"y1\":1,\"yref\":\"y domain\"}]},                        {\"responsive\": true}                    ).then(function(){\n",
       "                            \n",
       "var gd = document.getElementById('181ece01-1598-4f72-b14d-fa2dc52c7d20');\n",
       "var x = new MutationObserver(function (mutations, observer) {{\n",
       "        var display = window.getComputedStyle(gd).display;\n",
       "        if (!display || display === 'none') {{\n",
       "            console.log([gd, 'removed!']);\n",
       "            Plotly.purge(gd);\n",
       "            observer.disconnect();\n",
       "        }}\n",
       "}});\n",
       "\n",
       "// Listen for the removal of the full notebook cells\n",
       "var notebookContainer = gd.closest('#notebook-container');\n",
       "if (notebookContainer) {{\n",
       "    x.observe(notebookContainer, {childList: true});\n",
       "}}\n",
       "\n",
       "// Listen for the clearing of the current output cell\n",
       "var outputEl = gd.closest('.output');\n",
       "if (outputEl) {{\n",
       "    x.observe(outputEl, {childList: true});\n",
       "}}\n",
       "\n",
       "                        })                };                });            </script>        </div>"
      ]
     },
     "metadata": {},
     "output_type": "display_data"
    }
   ],
   "source": [
    "import plotly.express as px\n",
    "import plotly.graph_objects as go\n",
    "\n",
    "# column groupings\n",
    "cols = {\n",
    "    # inner loop: column-wise access of A & C\n",
    "    \"AC\": { \"names\": [\"jki\", \"kji\"], \"color\": \"#46237a\"}, \n",
    "    \n",
    "    # inner loop: row-wise access of A, column-wise access of B\n",
    "    \"AB\": { \"names\": [\"jik\", \"ijk\"], \"color\": \"#256eff\"}, \n",
    "\n",
    "    # inner loop: row-wise access of B & C\n",
    "    \"BC\": { \"names\": [\"kij\", \"ikj\"], \"color\": \"#3ddc97\"}, \n",
    "}\n",
    "\n",
    "\n",
    "def fig_args(cols, class_):\n",
    "    ys = cols[class_][\"names\"]\n",
    "    color = cols[class_][\"color\"]\n",
    "    colors = {y:color for y in ys}\n",
    "    return {\n",
    "        \"x\": \"N\",\n",
    "        \"y\": ys,\n",
    "        \"markers\": True,\n",
    "        \"color_discrete_map\":colors,\n",
    "    }\n",
    "\n",
    "results_df = df.to_pandas()\n",
    "figAC = px.line(results_df, **fig_args(cols, \"AC\"))\n",
    "figAB = px.line(results_df, **fig_args(cols, \"AB\"))\n",
    "figBC = px.line(results_df, **fig_args(cols, \"BC\"))\n",
    "\n",
    "layout = {\n",
    "    \"font\": {\"family\": \"Courier New\"},\n",
    "    \"title_text\": \"Matrix Multiply Performance\",\n",
    "    \"title_x\": 0.5,\n",
    "    \"xaxis_title\":\"Size(N)\",\n",
    "    \"yaxis_title\":\"Total Cycles\",\n",
    "    \"height\": 700,\n",
    "}\n",
    "\n",
    "fig = go.Figure(layout=layout,data=figAC.data + figAB.data + figBC.data)\n",
    "fig.add_vline(x=l2_cutoff, line_width=0.5, line_dash=\"dash\")\n",
    "fig.add_vline(x=l3_cutoff, line_width=0.5, line_dash=\"dash\")\n",
    "# fig.update_yaxes(type=\"log\")\n",
    "fig.show()"
   ]
  },
  {
   "cell_type": "code",
   "execution_count": null,
   "id": "dff14fb2-e724-489c-9bf4-6768e7ded431",
   "metadata": {},
   "outputs": [],
   "source": []
  }
 ],
 "metadata": {
  "kernelspec": {
   "display_name": "Python 3 (ipykernel)",
   "language": "python",
   "name": "python3"
  },
  "language_info": {
   "codemirror_mode": {
    "name": "ipython",
    "version": 3
   },
   "file_extension": ".py",
   "mimetype": "text/x-python",
   "name": "python",
   "nbconvert_exporter": "python",
   "pygments_lexer": "ipython3",
   "version": "3.8.10"
  }
 },
 "nbformat": 4,
 "nbformat_minor": 5
}
